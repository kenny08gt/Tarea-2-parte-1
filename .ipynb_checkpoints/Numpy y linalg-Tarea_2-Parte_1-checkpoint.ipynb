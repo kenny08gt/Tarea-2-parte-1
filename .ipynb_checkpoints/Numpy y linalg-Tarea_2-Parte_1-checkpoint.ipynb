{
 "cells": [
  {
   "cell_type": "markdown",
   "metadata": {},
   "source": [
    "# Vectores, operaciones vectoriales básicas y Universal functions\n",
    "\n"
   ]
  },
  {
   "cell_type": "markdown",
   "metadata": {},
   "source": [
    "Como cientificos de datos en algunos casos requeriremos crear nuestras propias funciones y es recomendable que se apeguen a las ufuncs, es decir que se puedan aplicar independiente de la dimensión del objeto al que se aplican, que soporten broadcasting y muy importante **que su definición evite ciclos y use operaciones vectorizadas y otras ufuncs** ."
   ]
  },
  {
   "cell_type": "code",
   "execution_count": 1,
   "metadata": {},
   "outputs": [],
   "source": [
    "import numpy as np"
   ]
  },
  {
   "cell_type": "markdown",
   "metadata": {},
   "source": [
    "## Ejercicio 1\n",
    "En data science y programación científica es común necesitar vectores con valores dentro de cierto intervalo, pero con sub-intervalos internos con diference espaciamiento ,por ejemplo:\n",
    "\n",
    "[0.  , 0.1 , 0.2 , 0.3 , 0.4 , 0.5 , 0.51, 0.52, 0.53, 0.54, 0.55,\n",
    "       0.56, 0.57, 0.58, 0.59, 0.6 , 0.7 , 0.8 , 0.9 , 1.  ]\n",
    "       \n",
    "El primer sub-intervalo incrementa de 0.1 en 0.1 , el segundo de 0.01 en 0.01 , y el tercero de 0.1 en 0.1 nuevamente.\n",
    "\n",
    "Usando unicamente NumPy crea un vector de este tipo con el nombre xs .\n",
    "\n",
    "**nota**: no es permitido usar ciclos, debe realizarse con operaciones \"vectorizadas\" de numpy"
   ]
  },
  {
   "cell_type": "code",
   "execution_count": 13,
   "metadata": {},
   "outputs": [
    {
     "name": "stdout",
     "output_type": "stream",
     "text": [
      "[0.   0.1  0.2  0.3  0.4  0.5  0.51 0.52 0.53 0.54 0.55 0.56 0.57 0.58\n",
      " 0.59 0.6  0.7  0.8  0.9  1.  ]\n"
     ]
    }
   ],
   "source": [
    "## tu codigo aqui (~ 4 lineas de codigo)\n",
    "xs = np.hstack((np.linspace(0.,0.5,6, endpoint = True), np.linspace(0.51,0.6,9, endpoint = False), np.linspace(0.6,1,5, endpoint = True)))\n",
    "print(xs)"
   ]
  },
  {
   "cell_type": "markdown",
   "metadata": {},
   "source": [
    "## Ejercicio 2\n",
    "Suavizado de curvas a través de promedios de n-puntos(medias móviles):\n",
    "\n",
    "<img src=\"https://www.luisllamas.es/wp-content/uploads/2017/03/arduino-filtro-media-movil-ventana-5.png\">\n",
    "\n",
    "En el mundo la data comunmente posee \"ruido\" por lo cual muchas veces antes de hacer análisis o modelado se necesita \"suavizar\" las curvas para reducir este ruido, una técnica muy sencilla es  el suavizado por promedio de n-puntos(también llamado media móvil), esto significa que para cada punto Xn obtenemos una versión transformada(suavizada) que consiste en promediar n puntos cercanos a el, por ejemplo para n= 3 tenemos que:\n",
    "\n",
    "$$XS_{n}  =  \\frac{X_{n-1}+X_{n}+X_{n+1}}{3}$$"
   ]
  },
  {
   "cell_type": "code",
   "execution_count": 16,
   "metadata": {},
   "outputs": [
    {
     "name": "stdout",
     "output_type": "stream",
     "text": [
      "[ 0.09039667  0.47074215  0.86129238  0.96052652  0.97350101  0.81424196\n",
      "  0.47753386  0.11183847 -0.44662915 -0.76945536 -0.89819457 -0.94902357\n",
      " -0.8914344  -0.44770834  0.27173367]\n",
      "[ 0.09039667  0.47414373  0.76418702  0.9317733   0.91608983  0.75509228\n",
      "  0.46787143  0.04758106 -0.36808201 -0.70475969 -0.8722245  -0.91288418\n",
      " -0.7627221  -0.35580302  0.27173367]\n"
     ]
    }
   ],
   "source": [
    "# las siguientes 3 lineas generan un conjunto de datos que se comportan segun una onda senoidal pero tienen\n",
    "# ruido por lo cual vamos a suavizar usando promedio de 3 puntos\n",
    "# en este ejercicio los generamos manualmente pero pensemos que son datos que pudieron ser generados con algún\n",
    "# instrumento como un sensor, o bien estar almacenados en una base de datos\n",
    "ruido = 0.1*np.random.randn(15) #el ruido comunmente se debe a aleatoriedad o captura no exacta de info.\n",
    "x = np.linspace(0,2*np.pi,15) + ruido\n",
    "x = np.sin(x)\n",
    "\n",
    "#xs es \"x suavizado\", inicialmente es una copia de x\n",
    "xs =  x.copy()\n",
    "\n",
    "for n in range(1,len(x)-1):\n",
    "    xs[n] = (x[n-1] + x[n] + x[n+1])/3\n",
    "    \n",
    "print(x)\n",
    "print(xs)"
   ]
  },
  {
   "cell_type": "markdown",
   "metadata": {},
   "source": [
    "En este caso usamos un ciclo  para ejemplificar pero ya hemos mencionado que debemos evitarlos siempre que sea posible y usar operaciones \"vectorizadas\" ya que es mucho mas rápido al utilizar  código pre-compilado de C, en este ejercicio debemos remplazar el calculo de xs para hacerlo de manera \"vectorizada\" y eliminar el ciclo for. \n",
    "\n",
    "**tip**: usar slicing"
   ]
  },
  {
   "cell_type": "code",
   "execution_count": 106,
   "metadata": {},
   "outputs": [
    {
     "name": "stdout",
     "output_type": "stream",
     "text": [
      "****************** ORIGINAL ******************\n",
      "[-0.03999231  0.58042708  0.76491101  0.95120937  0.95870876  0.80624271\n",
      "  0.50762811 -0.12916167 -0.56447431 -0.91808393 -0.96278947 -0.97286454\n",
      " -0.75316084 -0.46300074  0.10768503]\n",
      "****************** VECTORIZADO ******************\n",
      "[-0.03999231  0.43511526  0.76551582  0.89160971  0.90538695  0.75752653\n",
      "  0.39490305 -0.06200262 -0.53723997 -0.8151159  -0.95124598 -0.89627162\n",
      " -0.72967537 -0.36949218  0.10768503]\n"
     ]
    }
   ],
   "source": [
    "ruido = 0.1*np.random.randn(15) \n",
    "x2 = np.linspace(0,2*np.pi,15) + ruido\n",
    "x2 = np.sin(x2)\n",
    "print('****************** ORIGINAL ******************')\n",
    "print(x2)\n",
    "# xs es \"x suavizado\", inicialmente es una copia de x\n",
    "xs2 =  x2.copy()\n",
    "\n",
    "## tu codigo aqui (~ 1 linea):\n",
    "arr1 = np.hstack((x2[1:x.shape[0]], x2[0:1]))\n",
    "arr2 = np.hstack((x2[2:x.shape[0]], x2[0:2]))\n",
    "xs2 = (x2 + arr1 + arr2) / 3 \n",
    "xs2 = np.hstack((x2[0], xs2[0:xs2.shape[0]-2], x2[xs2.shape[0] -1 ]))\n",
    "\n",
    "print('****************** VECTORIZADO ******************')\n",
    "print(xs2)\n"
   ]
  },
  {
   "cell_type": "markdown",
   "metadata": {},
   "source": [
    "## Ejercicio 3\n",
    "\n",
    "NumPy posee logaritmos naturales , base 2 y base 10 , crear una *ufunc* que calcule el logaritmo en cualquier base n dada, la funcion debe recibir el tensor al cual calcular el logaritmo elemento por elemento y la base del logaritmo a calcular, por ejemplo:\n",
    "\n",
    "`def logaritmo_n(x,n):`"
   ]
  },
  {
   "cell_type": "code",
   "execution_count": 109,
   "metadata": {},
   "outputs": [
    {
     "name": "stdout",
     "output_type": "stream",
     "text": [
      "2.366589324909877\n",
      "2.9899782515341085\n"
     ]
    }
   ],
   "source": [
    "## tu codigo aqui:\n",
    "def logaritmo_n(x,n):\n",
    "    return np.log(x) / np.log(n)\n",
    "\n",
    "\n",
    "print(logaritmo_n(100, 7))\n",
    "print(logaritmo_n(123, 5))"
   ]
  },
  {
   "cell_type": "markdown",
   "metadata": {},
   "source": [
    "## Ejercicio 4\n",
    "Para calcular la información de una distribución de probabilidad necesitamos calcular el producto entre la información de cada posible $x$ y su probabilidad, cada uno de estos elementos nos indica cuanta incerteza aporta cada $x$ a la entropía de la distribución. \n",
    "\n",
    "Para completar este ejercicio hay que crear una función que calcule lo descrito anteriormente, debe recibir un vector representando a la dist. de probabilidad y devoler otro vector con el termino de entropía para cada $x$.\n",
    "\n",
    "Por ejemplo:\n",
    "\n",
    "`calcular_entropia([0.25,0.75])`\n",
    "\n",
    "Debe resultar en :\n",
    "\n",
    "$[0.5    ,    0.31127812]$\n",
    "\n",
    "**Nota**: la entropía es la suma sobre estos valores, en este caso no calculamos la entropía,unicamente los termimos de su sumatoria. La entropía es:\n",
    "\n",
    "$$S = -\\sum_i^nP(x_{i})log_{2}P(x_{i})$$"
   ]
  },
  {
   "cell_type": "code",
   "execution_count": 113,
   "metadata": {},
   "outputs": [
    {
     "name": "stdout",
     "output_type": "stream",
     "text": [
      "[0.5        0.31127812]\n"
     ]
    }
   ],
   "source": [
    "## tu codigo aqui (~ 2 lineas de codigo)\n",
    "\n",
    "def calcular_entropia(np_array):\n",
    "    return -np_array * np.log2(np_array)\n",
    "\n",
    "print(calcular_entropia(np.array([0.25, 0.75])))"
   ]
  },
  {
   "cell_type": "markdown",
   "metadata": {},
   "source": [
    "## Ejercicio 5\n",
    "\n",
    "A partir de la información en un data warehouse se ha generado un modelo de datos, el valor de los clientes en el tiempo se ha determinado un modelo predictivo  no lineal que estima cuanta ganancia ha generado cierto cliente en 5 años en base a lo que ha gastado en su primer mes como cliente. \n",
    "\n",
    "El modelo tiene la forma:\n",
    "\n",
    "$$g(x) = (x^{3} + 2x^{2} + e^{0.0001x} -\\sqrt{2x})/50$$\n",
    "\n",
    "Crear una función que calcule la ganancia para valores de gasto de nuevos clientes:"
   ]
  },
  {
   "cell_type": "code",
   "execution_count": 114,
   "metadata": {},
   "outputs": [
    {
     "name": "stdout",
     "output_type": "stream",
     "text": [
      "Ganancias [20399.73735829  2599.82010025   337.37862871]\n"
     ]
    }
   ],
   "source": [
    "def g(x):\n",
    "    ganancia = (np.power(x,3) + 2.0*(np.power(x,2.0))+np.exp(0.0001*x) - np.sqrt(2.0*x))/50\n",
    "    \n",
    "    return ganancia\n",
    "    \n",
    "gastos = np.array([100,50,25])\n",
    "ganancia = g(gastos)\n",
    "\n",
    "print(\"Ganancias\",ganancia)"
   ]
  },
  {
   "cell_type": "markdown",
   "metadata": {},
   "source": [
    "Se ha determinado también que hay costos asociados a la comunicación y relación con los clientes(llamadas,mensajes electrónicos,etc) y que estos también tienen alta correlación con el monto que estos gastan en su primer més siguiendo el modelo:\n",
    "$$c(x) = (x^{2} + x + log (0.0001x)-\\sqrt{0.54x})/100$$\n",
    "\n",
    "Cree una función para calcular este modelo sobre valores de de gasto de nuevos clientes , y luego cree una función  **ganancia_neta(x,g,c)** donde:\n",
    "* x = vector conteniendo los valores de gasto del primer mes para nuevos clientes.\n",
    "* g = función que estima la ganancia en función de x\n",
    "* c = función que estima el costo en función de x\n",
    "\n",
    "La función realiza el calculo simple **g(x) - c(x)** , ya que es posible que los modelos cambien en el tiempo es común recibir como parámetro el modelo o modelos hijos de un modelo mas grande , en este caso eso se logra recibiendo como parámetro las funciones de ganancia y costo."
   ]
  },
  {
   "cell_type": "code",
   "execution_count": 119,
   "metadata": {},
   "outputs": [
    {
     "name": "stdout",
     "output_type": "stream",
     "text": [
      "[20298.85689469  2574.42504495   330.9752857 ]\n"
     ]
    }
   ],
   "source": [
    "## tu codigo aqui :\n",
    "def c(x):\n",
    "    return (np.power(x,2) + x + np.log(0.0001*x) - np.sqrt(0.54*x))/100\n",
    "\n",
    "# print(c(gastos))\n",
    "\n",
    "def ganancia_neta(x, g, c):\n",
    "    return g(x) - c(x)\n",
    "\n",
    "print(ganancia_neta(gastos, g, c))\n"
   ]
  },
  {
   "cell_type": "markdown",
   "metadata": {},
   "source": [
    "# Funciones miscelaneas(agregación y estadistica descriptiva básica) \n",
    "\n",
    "Ya hemos trabajado algunas funciones de NumPy pero han sido funciones \"elementwise\" cuyo vector resultante tiene el mismo tamaño que el vector de entrada, existen muchas otras funciones que utilizamos en casos en los que necesitamos agregar,resumir cierto vector,incluyendo en este tipo de funciones algunas de estadistica descriptiva básica."
   ]
  },
  {
   "cell_type": "markdown",
   "metadata": {},
   "source": [
    "## Ejercicio 6\n",
    "Usando argmax crear una función `mode(x)` para calcular la moda de un vector $x$, esta función debe devolver una tupla de 2 elementos de la forma:\n",
    "\n",
    "(valor,conteo)\n",
    "\n",
    "**tip** investigar y auxiliarse de otras funciones de numpy y np.argmax, no olvidar trabajar todo vectorizado, sin ciclos."
   ]
  },
  {
   "cell_type": "code",
   "execution_count": 128,
   "metadata": {},
   "outputs": [
    {
     "name": "stdout",
     "output_type": "stream",
     "text": [
      "(4, 3)\n",
      "(1, 3)\n"
     ]
    }
   ],
   "source": [
    "def mode(x):\n",
    "    ## tu codigo aqui (~ 3 lineas de codigo):\n",
    "    unique, counts = np.unique(x, return_counts=True)\n",
    "    index = np.argmax(counts, axis=0);\n",
    "    return unique[index], counts[index]\n",
    "    \n",
    "print(mode(np.array([2, 3, 3, 4, 4, 4, 5, 5])))\n",
    "print(mode(np.array([1, 1, 1, 4, 4, 5, 5, 5, 7, 8, 9, 9, 9])))\n"
   ]
  },
  {
   "cell_type": "markdown",
   "metadata": {},
   "source": [
    "## Ejercicio 7\n",
    "Crear una función para calcular la entropía  de una distribución de probabilidad representada como un vector.\n",
    "$$S = -\\sum_i^nP(x_{i})log_{2}P(x_{i})$$\n",
    "\n",
    "**Nota**: a diferencia del ejercicio anterior donde solo calculamos los términos de la entropía, en este caso  si calculamos el valor completo de la entropía, que como mencionamos es una medida de incerteza en una distribución de probabilidad.\n",
    "\n",
    "**recordatorio**: no usar ciclos solo operaciones vectorizadas."
   ]
  },
  {
   "cell_type": "code",
   "execution_count": 129,
   "metadata": {},
   "outputs": [
    {
     "name": "stdout",
     "output_type": "stream",
     "text": [
      "0.8112781244591328\n"
     ]
    }
   ],
   "source": [
    "## tu codigo aqui (~ 3 lineas de codigo)\n",
    "def calcular_entropia_real(np_array):\n",
    "    values = -np_array * np.log2(np_array)\n",
    "    return np.sum(values)\n",
    "\n",
    "print(calcular_entropia_real(np.array([0.25, 0.75])))\n"
   ]
  },
  {
   "cell_type": "markdown",
   "metadata": {},
   "source": [
    "# Referencias\n",
    " * Ekuatio. Logaritmos de cualquier base. [online]. Disponible en: https://ekuatio.com/como-resolver-logaritmos-que-no-sean-de-base-10-con-la-calculadora/. [Accedido en 26/02/2019]\n",
    " * Scipy org. Array indexing [online]. Disponible en: https://docs.scipy.org/doc/numpy-1.13.0/reference/arrays.indexing.html. [Accedido en 26/02/2019]\n",
    " * Vitutor. Estadistica descriptiva [online]. Disponible en: https://www.vitutor.com/estadistica/descriptiva/a_8.html. [Accedido en 26/02/2019]\n",
    " * Scipy org. Numpy ArgMax [online]. Disponible en: https://docs.scipy.org/doc/numpy/reference/generated/numpy.argmax.html. [Accedido en 26/02/2019]"
   ]
  }
 ],
 "metadata": {
  "kernelspec": {
   "display_name": "Python 3",
   "language": "python",
   "name": "python3"
  },
  "language_info": {
   "codemirror_mode": {
    "name": "ipython",
    "version": 3
   },
   "file_extension": ".py",
   "mimetype": "text/x-python",
   "name": "python",
   "nbconvert_exporter": "python",
   "pygments_lexer": "ipython3",
   "version": "3.7.1"
  }
 },
 "nbformat": 4,
 "nbformat_minor": 2
}
